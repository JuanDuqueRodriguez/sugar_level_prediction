{
 "cells": [
  {
   "cell_type": "code",
   "execution_count": 1,
   "metadata": {},
   "outputs": [],
   "source": [
    "%matplotlib inline\n",
    "import matplotlib.pylab as plt\n",
    "import numpy as np\n",
    "import pandas as pd\n",
    "import os"
   ]
  },
  {
   "cell_type": "code",
   "execution_count": 3,
   "metadata": {},
   "outputs": [
    {
     "name": "stdout",
     "output_type": "stream",
     "text": [
      "Medidor,Número de serial,Sello de tiempo del medidor,Tipo de registro,Historial de glucosa(mg/dL),Escaneo de glucosa(mg/dL),Insulina de acción rápida no numérica,Insulina de acción rápida (unidades),Alimento no numérico,Carbohidratos (gramos),Carbohidratos (porciones),Insulina de acción larga no numérica,Insulina de acción larga (unidades),Notas,Tira reactiva para glucosa(mg/dL),Cuerpos cetónicos(mmol/L),Comida e insulina (unidades),Insulina de corrección (unidades),Insulina del cambio de usuario (unidades)\r",
      "\r\n",
      "LibreLink,2b3982f5-45fa-4396-8726-78a4651e35cb,06-06-2017 5:40 pm,0,156,,,,,,,,,,,,,,,\r",
      "\r\n",
      "LibreLink,2b3982f5-45fa-4396-8726-78a4651e35cb,06-06-2017 5:55 pm,0,159,,,,,,,,,,,,,,,\r",
      "\r\n",
      "LibreLink,2b3982f5-45fa-4396-8726-78a4651e35cb,06-06-2017 6:10 pm,0,170,,,,,,,,,,,,,,,\r",
      "\r\n",
      "LibreLink,2b3982f5-45fa-4396-8726-78a4651e35cb,06-06-2017 6:25 pm,0,164,,,,,,,,,,,,,,,\r",
      "\r\n",
      "LibreLink,2b3982f5-45fa-4396-8726-78a4651e35cb,06-06-2017 6:40 pm,0,147,,,,,,,,,,,,,,,\r",
      "\r\n",
      "LibreLink,2b3982f5-45fa-4396-8726-78a4651e35cb,06-06-2017 6:55 pm,0,148,,,,,,,,,,,,,,,\r",
      "\r\n",
      "LibreLink,2b3982f5-45fa-4396-8726-78a4651e35cb,06-06-2017 7:10 pm,0,156,,,,,,,,,,,,,,,\r",
      "\r\n",
      "LibreLink,2b3982f5-45fa-4396-8726-78a4651e35cb,06-06-2017 7:25 pm,0,160,,,,,,,,,,,,,,,\r",
      "\r\n",
      "LibreLink,2b3982f5-45fa-4396-8726-78a4651e35cb,06-06-2017 7:40 pm,0,175,,,,,,,,,,,,,,,\r",
      "\r\n"
     ]
    }
   ],
   "source": [
    "root = \"../data/\"\n",
    "filename = 'javi_measurements.csv' \n",
    "data_file = os.path.join(root, filename)\n",
    "!head $data_file"
   ]
  },
  {
   "cell_type": "code",
   "execution_count": 4,
   "metadata": {},
   "outputs": [
    {
     "data": {
      "text/html": [
       "<div>\n",
       "<style scoped>\n",
       "    .dataframe tbody tr th:only-of-type {\n",
       "        vertical-align: middle;\n",
       "    }\n",
       "\n",
       "    .dataframe tbody tr th {\n",
       "        vertical-align: top;\n",
       "    }\n",
       "\n",
       "    .dataframe thead th {\n",
       "        text-align: right;\n",
       "    }\n",
       "</style>\n",
       "<table border=\"1\" class=\"dataframe\">\n",
       "  <thead>\n",
       "    <tr style=\"text-align: right;\">\n",
       "      <th></th>\n",
       "      <th>Medidor</th>\n",
       "      <th>Número de serial</th>\n",
       "      <th>Sello de tiempo del medidor</th>\n",
       "      <th>Tipo de registro</th>\n",
       "      <th>Historial de glucosa(mg/dL)</th>\n",
       "      <th>Escaneo de glucosa(mg/dL)</th>\n",
       "      <th>Insulina de acción rápida no numérica</th>\n",
       "      <th>Insulina de acción rápida (unidades)</th>\n",
       "      <th>Alimento no numérico</th>\n",
       "      <th>Carbohidratos (gramos)</th>\n",
       "      <th>Carbohidratos (porciones)</th>\n",
       "      <th>Insulina de acción larga no numérica</th>\n",
       "      <th>Insulina de acción larga (unidades)</th>\n",
       "      <th>Notas</th>\n",
       "      <th>Tira reactiva para glucosa(mg/dL)</th>\n",
       "      <th>Cuerpos cetónicos(mmol/L)</th>\n",
       "      <th>Comida e insulina (unidades)</th>\n",
       "      <th>Insulina de corrección (unidades)</th>\n",
       "      <th>Insulina del cambio de usuario (unidades)</th>\n",
       "    </tr>\n",
       "  </thead>\n",
       "  <tbody>\n",
       "    <tr>\n",
       "      <th>1</th>\n",
       "      <td>LibreLink</td>\n",
       "      <td>2b3982f5-45fa-4396-8726-78a4651e35cb</td>\n",
       "      <td>06-06-2017 5:40 pm</td>\n",
       "      <td>0</td>\n",
       "      <td>156</td>\n",
       "      <td>NaN</td>\n",
       "      <td>NaN</td>\n",
       "      <td>NaN</td>\n",
       "      <td>NaN</td>\n",
       "      <td>NaN</td>\n",
       "      <td>NaN</td>\n",
       "      <td>NaN</td>\n",
       "      <td>NaN</td>\n",
       "      <td>NaN</td>\n",
       "      <td>NaN</td>\n",
       "      <td>NaN</td>\n",
       "      <td>NaN</td>\n",
       "      <td>NaN</td>\n",
       "      <td>NaN</td>\n",
       "    </tr>\n",
       "    <tr>\n",
       "      <th>2</th>\n",
       "      <td>LibreLink</td>\n",
       "      <td>2b3982f5-45fa-4396-8726-78a4651e35cb</td>\n",
       "      <td>06-06-2017 5:55 pm</td>\n",
       "      <td>0</td>\n",
       "      <td>159</td>\n",
       "      <td>NaN</td>\n",
       "      <td>NaN</td>\n",
       "      <td>NaN</td>\n",
       "      <td>NaN</td>\n",
       "      <td>NaN</td>\n",
       "      <td>NaN</td>\n",
       "      <td>NaN</td>\n",
       "      <td>NaN</td>\n",
       "      <td>NaN</td>\n",
       "      <td>NaN</td>\n",
       "      <td>NaN</td>\n",
       "      <td>NaN</td>\n",
       "      <td>NaN</td>\n",
       "      <td>NaN</td>\n",
       "    </tr>\n",
       "    <tr>\n",
       "      <th>3</th>\n",
       "      <td>LibreLink</td>\n",
       "      <td>2b3982f5-45fa-4396-8726-78a4651e35cb</td>\n",
       "      <td>06-06-2017 6:10 pm</td>\n",
       "      <td>0</td>\n",
       "      <td>170</td>\n",
       "      <td>NaN</td>\n",
       "      <td>NaN</td>\n",
       "      <td>NaN</td>\n",
       "      <td>NaN</td>\n",
       "      <td>NaN</td>\n",
       "      <td>NaN</td>\n",
       "      <td>NaN</td>\n",
       "      <td>NaN</td>\n",
       "      <td>NaN</td>\n",
       "      <td>NaN</td>\n",
       "      <td>NaN</td>\n",
       "      <td>NaN</td>\n",
       "      <td>NaN</td>\n",
       "      <td>NaN</td>\n",
       "    </tr>\n",
       "    <tr>\n",
       "      <th>4</th>\n",
       "      <td>LibreLink</td>\n",
       "      <td>2b3982f5-45fa-4396-8726-78a4651e35cb</td>\n",
       "      <td>06-06-2017 6:25 pm</td>\n",
       "      <td>0</td>\n",
       "      <td>164</td>\n",
       "      <td>NaN</td>\n",
       "      <td>NaN</td>\n",
       "      <td>NaN</td>\n",
       "      <td>NaN</td>\n",
       "      <td>NaN</td>\n",
       "      <td>NaN</td>\n",
       "      <td>NaN</td>\n",
       "      <td>NaN</td>\n",
       "      <td>NaN</td>\n",
       "      <td>NaN</td>\n",
       "      <td>NaN</td>\n",
       "      <td>NaN</td>\n",
       "      <td>NaN</td>\n",
       "      <td>NaN</td>\n",
       "    </tr>\n",
       "    <tr>\n",
       "      <th>5</th>\n",
       "      <td>LibreLink</td>\n",
       "      <td>2b3982f5-45fa-4396-8726-78a4651e35cb</td>\n",
       "      <td>06-06-2017 6:40 pm</td>\n",
       "      <td>0</td>\n",
       "      <td>147</td>\n",
       "      <td>NaN</td>\n",
       "      <td>NaN</td>\n",
       "      <td>NaN</td>\n",
       "      <td>NaN</td>\n",
       "      <td>NaN</td>\n",
       "      <td>NaN</td>\n",
       "      <td>NaN</td>\n",
       "      <td>NaN</td>\n",
       "      <td>NaN</td>\n",
       "      <td>NaN</td>\n",
       "      <td>NaN</td>\n",
       "      <td>NaN</td>\n",
       "      <td>NaN</td>\n",
       "      <td>NaN</td>\n",
       "    </tr>\n",
       "  </tbody>\n",
       "</table>\n",
       "</div>"
      ],
      "text/plain": [
       "     Medidor                      Número de serial  \\\n",
       "1  LibreLink  2b3982f5-45fa-4396-8726-78a4651e35cb   \n",
       "2  LibreLink  2b3982f5-45fa-4396-8726-78a4651e35cb   \n",
       "3  LibreLink  2b3982f5-45fa-4396-8726-78a4651e35cb   \n",
       "4  LibreLink  2b3982f5-45fa-4396-8726-78a4651e35cb   \n",
       "5  LibreLink  2b3982f5-45fa-4396-8726-78a4651e35cb   \n",
       "\n",
       "  Sello de tiempo del medidor Tipo de registro Historial de glucosa(mg/dL)  \\\n",
       "1          06-06-2017 5:40 pm                0                         156   \n",
       "2          06-06-2017 5:55 pm                0                         159   \n",
       "3          06-06-2017 6:10 pm                0                         170   \n",
       "4          06-06-2017 6:25 pm                0                         164   \n",
       "5          06-06-2017 6:40 pm                0                         147   \n",
       "\n",
       "  Escaneo de glucosa(mg/dL) Insulina de acción rápida no numérica  \\\n",
       "1                       NaN                                   NaN   \n",
       "2                       NaN                                   NaN   \n",
       "3                       NaN                                   NaN   \n",
       "4                       NaN                                   NaN   \n",
       "5                       NaN                                   NaN   \n",
       "\n",
       "  Insulina de acción rápida (unidades) Alimento no numérico  \\\n",
       "1                                  NaN                  NaN   \n",
       "2                                  NaN                  NaN   \n",
       "3                                  NaN                  NaN   \n",
       "4                                  NaN                  NaN   \n",
       "5                                  NaN                  NaN   \n",
       "\n",
       "  Carbohidratos (gramos) Carbohidratos (porciones)  \\\n",
       "1                    NaN                       NaN   \n",
       "2                    NaN                       NaN   \n",
       "3                    NaN                       NaN   \n",
       "4                    NaN                       NaN   \n",
       "5                    NaN                       NaN   \n",
       "\n",
       "  Insulina de acción larga no numérica Insulina de acción larga (unidades)  \\\n",
       "1                                  NaN                                 NaN   \n",
       "2                                  NaN                                 NaN   \n",
       "3                                  NaN                                 NaN   \n",
       "4                                  NaN                                 NaN   \n",
       "5                                  NaN                                 NaN   \n",
       "\n",
       "  Notas Tira reactiva para glucosa(mg/dL) Cuerpos cetónicos(mmol/L)  \\\n",
       "1   NaN                               NaN                       NaN   \n",
       "2   NaN                               NaN                       NaN   \n",
       "3   NaN                               NaN                       NaN   \n",
       "4   NaN                               NaN                       NaN   \n",
       "5   NaN                               NaN                       NaN   \n",
       "\n",
       "  Comida e insulina (unidades) Insulina de corrección (unidades)  \\\n",
       "1                          NaN                               NaN   \n",
       "2                          NaN                               NaN   \n",
       "3                          NaN                               NaN   \n",
       "4                          NaN                               NaN   \n",
       "5                          NaN                               NaN   \n",
       "\n",
       "  Insulina del cambio de usuario (unidades)  \n",
       "1                                       NaN  \n",
       "2                                       NaN  \n",
       "3                                       NaN  \n",
       "4                                       NaN  \n",
       "5                                       NaN  "
      ]
     },
     "execution_count": 4,
     "metadata": {},
     "output_type": "execute_result"
    }
   ],
   "source": [
    "columns = 'Medidor,Número de serial,Sello de tiempo del medidor,Tipo de registro,Historial de glucosa(mg/dL),Escaneo de glucosa(mg/dL),Insulina de acción rápida no numérica,Insulina de acción rápida (unidades),Alimento no numérico,Carbohidratos (gramos),Carbohidratos (porciones),Insulina de acción larga no numérica,Insulina de acción larga (unidades),Notas,Tira reactiva para glucosa(mg/dL),Cuerpos cetónicos(mmol/L),Comida e insulina (unidades),Insulina de corrección (unidades),Insulina del cambio de usuario (unidades)'\n",
    "columns = columns.split(',')\n",
    "\n",
    "df = pd.read_csv(data_file, sep=',', header=None, names=columns, low_memory=False)\n",
    "df.drop(df.index[0], inplace=True)\n",
    "df.head()"
   ]
  },
  {
   "cell_type": "code",
   "execution_count": 5,
   "metadata": {},
   "outputs": [
    {
     "data": {
      "text/html": [
       "<div>\n",
       "<style scoped>\n",
       "    .dataframe tbody tr th:only-of-type {\n",
       "        vertical-align: middle;\n",
       "    }\n",
       "\n",
       "    .dataframe tbody tr th {\n",
       "        vertical-align: top;\n",
       "    }\n",
       "\n",
       "    .dataframe thead th {\n",
       "        text-align: right;\n",
       "    }\n",
       "</style>\n",
       "<table border=\"1\" class=\"dataframe\">\n",
       "  <thead>\n",
       "    <tr style=\"text-align: right;\">\n",
       "      <th></th>\n",
       "      <th>Medidor</th>\n",
       "      <th>Número de serial</th>\n",
       "      <th>Sello de tiempo del medidor</th>\n",
       "      <th>Tipo de registro</th>\n",
       "      <th>Historial de glucosa(mg/dL)</th>\n",
       "      <th>Escaneo de glucosa(mg/dL)</th>\n",
       "      <th>Insulina de acción rápida no numérica</th>\n",
       "      <th>Insulina de acción rápida (unidades)</th>\n",
       "      <th>Alimento no numérico</th>\n",
       "      <th>Carbohidratos (gramos)</th>\n",
       "      <th>Carbohidratos (porciones)</th>\n",
       "      <th>Insulina de acción larga no numérica</th>\n",
       "      <th>Insulina de acción larga (unidades)</th>\n",
       "      <th>Notas</th>\n",
       "      <th>Tira reactiva para glucosa(mg/dL)</th>\n",
       "      <th>Cuerpos cetónicos(mmol/L)</th>\n",
       "      <th>Comida e insulina (unidades)</th>\n",
       "      <th>Insulina de corrección (unidades)</th>\n",
       "      <th>Insulina del cambio de usuario (unidades)</th>\n",
       "    </tr>\n",
       "  </thead>\n",
       "  <tbody>\n",
       "    <tr>\n",
       "      <th>count</th>\n",
       "      <td>103357</td>\n",
       "      <td>103357</td>\n",
       "      <td>103357</td>\n",
       "      <td>103357</td>\n",
       "      <td>93657</td>\n",
       "      <td>9693</td>\n",
       "      <td>0.0</td>\n",
       "      <td>4</td>\n",
       "      <td>0.0</td>\n",
       "      <td>0.0</td>\n",
       "      <td>0.0</td>\n",
       "      <td>0.0</td>\n",
       "      <td>3</td>\n",
       "      <td>0.0</td>\n",
       "      <td>0.0</td>\n",
       "      <td>0.0</td>\n",
       "      <td>0.0</td>\n",
       "      <td>0.0</td>\n",
       "      <td>0.0</td>\n",
       "    </tr>\n",
       "    <tr>\n",
       "      <th>unique</th>\n",
       "      <td>2</td>\n",
       "      <td>8</td>\n",
       "      <td>83564</td>\n",
       "      <td>3</td>\n",
       "      <td>457</td>\n",
       "      <td>405</td>\n",
       "      <td>0.0</td>\n",
       "      <td>4</td>\n",
       "      <td>0.0</td>\n",
       "      <td>0.0</td>\n",
       "      <td>0.0</td>\n",
       "      <td>0.0</td>\n",
       "      <td>1</td>\n",
       "      <td>0.0</td>\n",
       "      <td>0.0</td>\n",
       "      <td>0.0</td>\n",
       "      <td>0.0</td>\n",
       "      <td>0.0</td>\n",
       "      <td>0.0</td>\n",
       "    </tr>\n",
       "    <tr>\n",
       "      <th>top</th>\n",
       "      <td>FreeStyle LibreLink</td>\n",
       "      <td>c5f89737-15cc-4361-8788-d4c019a08f78</td>\n",
       "      <td>12-12-2017 7:49 am</td>\n",
       "      <td>0</td>\n",
       "      <td>173</td>\n",
       "      <td>75</td>\n",
       "      <td>NaN</td>\n",
       "      <td>6,0</td>\n",
       "      <td>NaN</td>\n",
       "      <td>NaN</td>\n",
       "      <td>NaN</td>\n",
       "      <td>NaN</td>\n",
       "      <td>10,0</td>\n",
       "      <td>NaN</td>\n",
       "      <td>NaN</td>\n",
       "      <td>NaN</td>\n",
       "      <td>NaN</td>\n",
       "      <td>NaN</td>\n",
       "      <td>NaN</td>\n",
       "    </tr>\n",
       "    <tr>\n",
       "      <th>freq</th>\n",
       "      <td>52067</td>\n",
       "      <td>40897</td>\n",
       "      <td>4</td>\n",
       "      <td>93657</td>\n",
       "      <td>480</td>\n",
       "      <td>66</td>\n",
       "      <td>NaN</td>\n",
       "      <td>1</td>\n",
       "      <td>NaN</td>\n",
       "      <td>NaN</td>\n",
       "      <td>NaN</td>\n",
       "      <td>NaN</td>\n",
       "      <td>3</td>\n",
       "      <td>NaN</td>\n",
       "      <td>NaN</td>\n",
       "      <td>NaN</td>\n",
       "      <td>NaN</td>\n",
       "      <td>NaN</td>\n",
       "      <td>NaN</td>\n",
       "    </tr>\n",
       "  </tbody>\n",
       "</table>\n",
       "</div>"
      ],
      "text/plain": [
       "                    Medidor                      Número de serial  \\\n",
       "count                103357                                103357   \n",
       "unique                    2                                     8   \n",
       "top     FreeStyle LibreLink  c5f89737-15cc-4361-8788-d4c019a08f78   \n",
       "freq                  52067                                 40897   \n",
       "\n",
       "       Sello de tiempo del medidor Tipo de registro  \\\n",
       "count                       103357           103357   \n",
       "unique                       83564                3   \n",
       "top             12-12-2017 7:49 am                0   \n",
       "freq                             4            93657   \n",
       "\n",
       "       Historial de glucosa(mg/dL) Escaneo de glucosa(mg/dL)  \\\n",
       "count                        93657                      9693   \n",
       "unique                         457                       405   \n",
       "top                            173                        75   \n",
       "freq                           480                        66   \n",
       "\n",
       "        Insulina de acción rápida no numérica  \\\n",
       "count                                     0.0   \n",
       "unique                                    0.0   \n",
       "top                                       NaN   \n",
       "freq                                      NaN   \n",
       "\n",
       "       Insulina de acción rápida (unidades)  Alimento no numérico  \\\n",
       "count                                     4                   0.0   \n",
       "unique                                    4                   0.0   \n",
       "top                                     6,0                   NaN   \n",
       "freq                                      1                   NaN   \n",
       "\n",
       "        Carbohidratos (gramos)  Carbohidratos (porciones)  \\\n",
       "count                      0.0                        0.0   \n",
       "unique                     0.0                        0.0   \n",
       "top                        NaN                        NaN   \n",
       "freq                       NaN                        NaN   \n",
       "\n",
       "        Insulina de acción larga no numérica  \\\n",
       "count                                    0.0   \n",
       "unique                                   0.0   \n",
       "top                                      NaN   \n",
       "freq                                     NaN   \n",
       "\n",
       "       Insulina de acción larga (unidades)  Notas  \\\n",
       "count                                    3    0.0   \n",
       "unique                                   1    0.0   \n",
       "top                                   10,0    NaN   \n",
       "freq                                     3    NaN   \n",
       "\n",
       "        Tira reactiva para glucosa(mg/dL)  Cuerpos cetónicos(mmol/L)  \\\n",
       "count                                 0.0                        0.0   \n",
       "unique                                0.0                        0.0   \n",
       "top                                   NaN                        NaN   \n",
       "freq                                  NaN                        NaN   \n",
       "\n",
       "        Comida e insulina (unidades)  Insulina de corrección (unidades)  \\\n",
       "count                            0.0                                0.0   \n",
       "unique                           0.0                                0.0   \n",
       "top                              NaN                                NaN   \n",
       "freq                             NaN                                NaN   \n",
       "\n",
       "        Insulina del cambio de usuario (unidades)  \n",
       "count                                         0.0  \n",
       "unique                                        0.0  \n",
       "top                                           NaN  \n",
       "freq                                          NaN  "
      ]
     },
     "execution_count": 5,
     "metadata": {},
     "output_type": "execute_result"
    }
   ],
   "source": [
    "df.describe()"
   ]
  },
  {
   "cell_type": "code",
   "execution_count": 6,
   "metadata": {},
   "outputs": [],
   "source": [
    "dfs = df[['Sello de tiempo del medidor', 'Historial de glucosa(mg/dL)', 'Escaneo de glucosa(mg/dL)']]\n",
    "dfs.columns = ['timestamp', 'aut_record', 'man_record']"
   ]
  },
  {
   "cell_type": "code",
   "execution_count": 7,
   "metadata": {},
   "outputs": [
    {
     "data": {
      "text/html": [
       "<div>\n",
       "<style scoped>\n",
       "    .dataframe tbody tr th:only-of-type {\n",
       "        vertical-align: middle;\n",
       "    }\n",
       "\n",
       "    .dataframe tbody tr th {\n",
       "        vertical-align: top;\n",
       "    }\n",
       "\n",
       "    .dataframe thead th {\n",
       "        text-align: right;\n",
       "    }\n",
       "</style>\n",
       "<table border=\"1\" class=\"dataframe\">\n",
       "  <thead>\n",
       "    <tr style=\"text-align: right;\">\n",
       "      <th></th>\n",
       "      <th>timestamp</th>\n",
       "      <th>aut_record</th>\n",
       "      <th>man_record</th>\n",
       "    </tr>\n",
       "  </thead>\n",
       "  <tbody>\n",
       "    <tr>\n",
       "      <th>1</th>\n",
       "      <td>06-06-2017 5:40 pm</td>\n",
       "      <td>156</td>\n",
       "      <td>NaN</td>\n",
       "    </tr>\n",
       "    <tr>\n",
       "      <th>2</th>\n",
       "      <td>06-06-2017 5:55 pm</td>\n",
       "      <td>159</td>\n",
       "      <td>NaN</td>\n",
       "    </tr>\n",
       "    <tr>\n",
       "      <th>3</th>\n",
       "      <td>06-06-2017 6:10 pm</td>\n",
       "      <td>170</td>\n",
       "      <td>NaN</td>\n",
       "    </tr>\n",
       "    <tr>\n",
       "      <th>4</th>\n",
       "      <td>06-06-2017 6:25 pm</td>\n",
       "      <td>164</td>\n",
       "      <td>NaN</td>\n",
       "    </tr>\n",
       "    <tr>\n",
       "      <th>5</th>\n",
       "      <td>06-06-2017 6:40 pm</td>\n",
       "      <td>147</td>\n",
       "      <td>NaN</td>\n",
       "    </tr>\n",
       "  </tbody>\n",
       "</table>\n",
       "</div>"
      ],
      "text/plain": [
       "            timestamp aut_record man_record\n",
       "1  06-06-2017 5:40 pm        156        NaN\n",
       "2  06-06-2017 5:55 pm        159        NaN\n",
       "3  06-06-2017 6:10 pm        170        NaN\n",
       "4  06-06-2017 6:25 pm        164        NaN\n",
       "5  06-06-2017 6:40 pm        147        NaN"
      ]
     },
     "execution_count": 7,
     "metadata": {},
     "output_type": "execute_result"
    }
   ],
   "source": [
    "dfs.head()"
   ]
  },
  {
   "cell_type": "code",
   "execution_count": 8,
   "metadata": {},
   "outputs": [],
   "source": [
    "dfs = dfs.dropna(inplace=False, subset=['aut_record']).reset_index()"
   ]
  },
  {
   "cell_type": "code",
   "execution_count": 9,
   "metadata": {},
   "outputs": [
    {
     "data": {
      "text/html": [
       "<div>\n",
       "<style scoped>\n",
       "    .dataframe tbody tr th:only-of-type {\n",
       "        vertical-align: middle;\n",
       "    }\n",
       "\n",
       "    .dataframe tbody tr th {\n",
       "        vertical-align: top;\n",
       "    }\n",
       "\n",
       "    .dataframe thead th {\n",
       "        text-align: right;\n",
       "    }\n",
       "</style>\n",
       "<table border=\"1\" class=\"dataframe\">\n",
       "  <thead>\n",
       "    <tr style=\"text-align: right;\">\n",
       "      <th></th>\n",
       "      <th>index</th>\n",
       "      <th>timestamp</th>\n",
       "      <th>aut_record</th>\n",
       "      <th>man_record</th>\n",
       "    </tr>\n",
       "  </thead>\n",
       "  <tbody>\n",
       "    <tr>\n",
       "      <th>0</th>\n",
       "      <td>1</td>\n",
       "      <td>06-06-2017 5:40 pm</td>\n",
       "      <td>156</td>\n",
       "      <td>NaN</td>\n",
       "    </tr>\n",
       "    <tr>\n",
       "      <th>1</th>\n",
       "      <td>2</td>\n",
       "      <td>06-06-2017 5:55 pm</td>\n",
       "      <td>159</td>\n",
       "      <td>NaN</td>\n",
       "    </tr>\n",
       "    <tr>\n",
       "      <th>2</th>\n",
       "      <td>3</td>\n",
       "      <td>06-06-2017 6:10 pm</td>\n",
       "      <td>170</td>\n",
       "      <td>NaN</td>\n",
       "    </tr>\n",
       "    <tr>\n",
       "      <th>3</th>\n",
       "      <td>4</td>\n",
       "      <td>06-06-2017 6:25 pm</td>\n",
       "      <td>164</td>\n",
       "      <td>NaN</td>\n",
       "    </tr>\n",
       "    <tr>\n",
       "      <th>4</th>\n",
       "      <td>5</td>\n",
       "      <td>06-06-2017 6:40 pm</td>\n",
       "      <td>147</td>\n",
       "      <td>NaN</td>\n",
       "    </tr>\n",
       "  </tbody>\n",
       "</table>\n",
       "</div>"
      ],
      "text/plain": [
       "   index           timestamp aut_record man_record\n",
       "0      1  06-06-2017 5:40 pm        156        NaN\n",
       "1      2  06-06-2017 5:55 pm        159        NaN\n",
       "2      3  06-06-2017 6:10 pm        170        NaN\n",
       "3      4  06-06-2017 6:25 pm        164        NaN\n",
       "4      5  06-06-2017 6:40 pm        147        NaN"
      ]
     },
     "execution_count": 9,
     "metadata": {},
     "output_type": "execute_result"
    }
   ],
   "source": [
    "dfs.head()"
   ]
  },
  {
   "cell_type": "code",
   "execution_count": 10,
   "metadata": {},
   "outputs": [],
   "source": [
    "dfs.aut_record = dfs.aut_record.values.astype(np.int)"
   ]
  },
  {
   "cell_type": "code",
   "execution_count": 11,
   "metadata": {},
   "outputs": [
    {
     "data": {
      "image/png": "[encoded data removed]",
      "text/plain": [
       "<Figure size 432x288 with 1 Axes>"
      ]
     },
     "metadata": {
      "needs_background": "light"
     },
     "output_type": "display_data"
    }
   ],
   "source": [
    "plt.figure()\n",
    "plt.plot(dfs.aut_record.values[:100])\n",
    "yaxis = np.arange(50, 360, step=20)\n",
    "plt.yticks(yaxis, yaxis)\n",
    "plt.show()"
   ]
  },
  {
   "cell_type": "code",
   "execution_count": 12,
   "metadata": {},
   "outputs": [],
   "source": [
    "import datetime"
   ]
  },
  {
   "cell_type": "code",
   "execution_count": 13,
   "metadata": {},
   "outputs": [],
   "source": [
    "dfs.timestamp = pd.to_datetime(dfs.timestamp, infer_datetime_format=True)"
   ]
  },
  {
   "cell_type": "code",
   "execution_count": 14,
   "metadata": {},
   "outputs": [
    {
     "data": {
      "text/html": [
       "<div>\n",
       "<style scoped>\n",
       "    .dataframe tbody tr th:only-of-type {\n",
       "        vertical-align: middle;\n",
       "    }\n",
       "\n",
       "    .dataframe tbody tr th {\n",
       "        vertical-align: top;\n",
       "    }\n",
       "\n",
       "    .dataframe thead th {\n",
       "        text-align: right;\n",
       "    }\n",
       "</style>\n",
       "<table border=\"1\" class=\"dataframe\">\n",
       "  <thead>\n",
       "    <tr style=\"text-align: right;\">\n",
       "      <th></th>\n",
       "      <th>index</th>\n",
       "      <th>timestamp</th>\n",
       "      <th>aut_record</th>\n",
       "      <th>man_record</th>\n",
       "    </tr>\n",
       "  </thead>\n",
       "  <tbody>\n",
       "    <tr>\n",
       "      <th>0</th>\n",
       "      <td>1</td>\n",
       "      <td>2017-06-06 17:40:00</td>\n",
       "      <td>156</td>\n",
       "      <td>NaN</td>\n",
       "    </tr>\n",
       "    <tr>\n",
       "      <th>1</th>\n",
       "      <td>2</td>\n",
       "      <td>2017-06-06 17:55:00</td>\n",
       "      <td>159</td>\n",
       "      <td>NaN</td>\n",
       "    </tr>\n",
       "    <tr>\n",
       "      <th>2</th>\n",
       "      <td>3</td>\n",
       "      <td>2017-06-06 18:10:00</td>\n",
       "      <td>170</td>\n",
       "      <td>NaN</td>\n",
       "    </tr>\n",
       "    <tr>\n",
       "      <th>3</th>\n",
       "      <td>4</td>\n",
       "      <td>2017-06-06 18:25:00</td>\n",
       "      <td>164</td>\n",
       "      <td>NaN</td>\n",
       "    </tr>\n",
       "    <tr>\n",
       "      <th>4</th>\n",
       "      <td>5</td>\n",
       "      <td>2017-06-06 18:40:00</td>\n",
       "      <td>147</td>\n",
       "      <td>NaN</td>\n",
       "    </tr>\n",
       "  </tbody>\n",
       "</table>\n",
       "</div>"
      ],
      "text/plain": [
       "   index           timestamp  aut_record man_record\n",
       "0      1 2017-06-06 17:40:00         156        NaN\n",
       "1      2 2017-06-06 17:55:00         159        NaN\n",
       "2      3 2017-06-06 18:10:00         170        NaN\n",
       "3      4 2017-06-06 18:25:00         164        NaN\n",
       "4      5 2017-06-06 18:40:00         147        NaN"
      ]
     },
     "execution_count": 14,
     "metadata": {},
     "output_type": "execute_result"
    }
   ],
   "source": [
    "dfs.head()"
   ]
  },
  {
   "cell_type": "code",
   "execution_count": 15,
   "metadata": {},
   "outputs": [
    {
     "data": {
      "image/png": "[encoded data removed]",
      "text/plain": [
       "<Figure size 432x288 with 1 Axes>"
      ]
     },
     "metadata": {
      "needs_background": "light"
     },
     "output_type": "display_data"
    }
   ],
   "source": [
    "plt.figure()\n",
    "start=np.random.randint(low=0, high=dfs.index.size)\n",
    "N = 200\n",
    "plt.plot(dfs.timestamp.values[start:start+N], dfs.aut_record.values[start:start+N])\n",
    "plt.gcf().canvas.draw()\n",
    "\n",
    "ax = plt.gca()\n",
    "label = ax.get_xticklabels()\n",
    "label = [l.get_text() for l in label]\n",
    "ax.set_xticklabels(label, rotation=90)\n",
    "plt.show()"
   ]
  },
  {
   "cell_type": "code",
   "execution_count": 31,
   "metadata": {},
   "outputs": [
    {
     "name": "stdout",
     "output_type": "stream",
     "text": [
      "2017-06-06 17:40:00 17 6 Tuesday\n"
     ]
    }
   ],
   "source": [
    "aux = pd.to_datetime(dfs.timestamp.values[0])\n",
    "print(aux, aux.hour, aux.day, aux.day_name())"
   ]
  },
  {
   "cell_type": "code",
   "execution_count": 36,
   "metadata": {},
   "outputs": [
    {
     "data": {
      "text/plain": [
       "((3, 2), (3,))"
      ]
     },
     "execution_count": 36,
     "metadata": {},
     "output_type": "execute_result"
    }
   ],
   "source": [
    "aux = np.array([0, 1 ,2])\n",
    "np.stack(arrays=(aux, aux), axis=1).shape, aux.shape"
   ]
  },
  {
   "cell_type": "code",
   "execution_count": 114,
   "metadata": {},
   "outputs": [],
   "source": [
    "one_day = np.timedelta64(1000000000*3600*24, 'ns')\n",
    "one_hour = np.timedelta64(1000000000*3600, 'ns')\n",
    "day_dict = {'Monday': 0, 'Tuesday': 1, 'Wednesday': 2, 'Thursday': 3, \n",
    "            'Friday': 4, 'Saturday': 5, 'Sunday': 6}\n",
    "\n",
    "def get_time_data(data, idx, time_unit, zero_time=None):\n",
    "    # get time feature, substract last time feature event, and normalize to time_unit\n",
    "    ts = pd.to_datetime(data.timestamp.values[idx])\n",
    "    hour = np.array([t.hour/24.0 for t in ts])\n",
    "    day = np.array([day_dict[t.day_name()]/7.0 for t in ts])\n",
    "    if not zero_time:\n",
    "        zero_time = ts[-1]\n",
    "    ts = np.array([(t-zero_time)/time_unit for t in ts])\n",
    "    return hour, day, zero_time, ts\n",
    "\n",
    "def get_sugar_data(data, idx, scaler=None):\n",
    "    ys = data.aut_record.values[idx].astype(np.float)\n",
    "    if not scaler:\n",
    "        min_ys = np.min(ys)\n",
    "        max_ys = np.max(ys)\n",
    "        scaler = (min_ys, max_ys)\n",
    "    ys = (ys-scaler[0]) / (scaler[1] - scaler[0])\n",
    "    return scaler, ys\n",
    "    \n",
    "def add_noise(y, noise=0.0):\n",
    "    noisy_seq = np.random.normal(loc=0.0, scale=noise, size=y.size)\n",
    "    y_noisy = y + noisy_seq\n",
    "    return y_noisy\n",
    "        \n",
    "def create_sequence(data, start, history, future, time_unit=one_day, noise=0.1, day_dict=day_dict):\n",
    "    # get feature and label index ranges\n",
    "    feature_range = np.arange(start, start+history)\n",
    "    label_range = np.arange(start+history, start+history+future)\n",
    "    \n",
    "    hour_feature, day_feature, zero_time, ts_feature = get_time_data(data, feature_range, time_unit, \n",
    "                                                                     zero_time=None)\n",
    "    scaler, ys_feature = get_sugar_data(data, feature_range, scaler=None)\n",
    "    ys_feature_noisy = add_noise(ys_feature, noise) if noise > 0. else ys_feature\n",
    "    # put together the sugar_level, hour, day and time_interval\n",
    "    comb_feature = np.stack(arrays=(ts_feature, hour_feature, day_feature, ys_feature_noisy), axis=1)\n",
    "    \n",
    "    hour_label, day_label, _, ts_label = get_time_data(data, label_range, time_unit, zero_time=zero_time)\n",
    "    _, ys_label = get_sugar_data(data, label_range, scaler=scaler)\n",
    "    comb_label = np.stack(arrays=(ts_label,hour_label, day_label, ys_label), axis=1)\n",
    "    \n",
    "    return ys_feature, comb_feature, comb_label        "
   ]
  },
  {
   "cell_type": "code",
   "execution_count": 117,
   "metadata": {},
   "outputs": [
    {
     "data": {
      "image/png": "[encoded data removed]",
      "text/plain": [
       "<Figure size 432x288 with 1 Axes>"
      ]
     },
     "metadata": {
      "needs_background": "light"
     },
     "output_type": "display_data"
    }
   ],
   "source": [
    "plt.figure()\n",
    "start=np.random.randint(low=0, high=dfs.index.size)\n",
    "history = 150  # a history of 25 h \n",
    "future = 12  # this accounts for a prediction of 3 hours in advance\n",
    "yf, ynf, yl = create_sequence(dfs, start=start, history=history, future=future, \n",
    "                              time_unit=one_day, noise=0.05, day_dict=day_dict)\n",
    "\n",
    "plt.plot(ynf[:, 0], yf, '-b', markersize=2, linewidth=1)\n",
    "plt.plot(ynf[:, 0], ynf[:, 3], '.b', markersize=2, linewidth=1)\n",
    "plt.plot(yl[:, 0], yl[:, 3], '.--k', markersize=2, linewidth=1)\n",
    "\n",
    "plt.show()"
   ]
  },
  {
   "cell_type": "code",
   "execution_count": 120,
   "metadata": {},
   "outputs": [
    {
     "data": {
      "text/plain": [
       "((150, 4), (12, 4))"
      ]
     },
     "execution_count": 120,
     "metadata": {},
     "output_type": "execute_result"
    }
   ],
   "source": [
    "ynf.shape, yl.shape"
   ]
  },
  {
   "cell_type": "code",
   "execution_count": 122,
   "metadata": {},
   "outputs": [
    {
     "data": {
      "text/plain": [
       "(162, 4)"
      ]
     },
     "execution_count": 122,
     "metadata": {},
     "output_type": "execute_result"
    }
   ],
   "source": [
    "np.concatenate([ynf, yl], axis=0).shape"
   ]
  },
  {
   "cell_type": "code",
   "execution_count": 142,
   "metadata": {},
   "outputs": [],
   "source": [
    "def create_dataset(data, num_samples, min_idx, max_idx, history, future, replace=False,\n",
    "                   noise=0.1, time_unit=one_day, day_dict=day_dict, time_tolerance=1.2, seed=1098):\n",
    "    indices = data.index[min_idx: max_idx-history-future+1]\n",
    "    np.random.seed(seed)\n",
    "    starts = np.random.choice(indices, size=num_samples, replace=replace)\n",
    "    out = np.zeros(shape=(num_samples, history+future, 4), dtype=np.float32)\n",
    "    max_time = history*0.25*one_hour/one_day\n",
    "    k = 0\n",
    "    for i, start in enumerate(starts):\n",
    "        _, ynf, yl = create_sequence(data, start=start, history=history, future=future, \n",
    "                                     time_unit=one_day, noise=noise, day_dict=day_dict)\n",
    "        if -np.min(ynf[:, 0])/max_time < time_tolerance:\n",
    "            out[k] = np.concatenate([ynf, yl], axis=0)\n",
    "            k += 1\n",
    "        else: \n",
    "            out = np.delete(out, k, 0)\n",
    "        if k % 5000 == 0 and k > 0:\n",
    "            print(\"\\t Added %s sequences\" %k)\n",
    "    s = \"%s sequences (out of %s) couldn't been added because they exceed \"\n",
    "    s += \"the maximum attainable time (%0.2f)\" \n",
    "    print(s %(i-k, k, max_time))\n",
    "    return out"
   ]
  },
  {
   "cell_type": "code",
   "execution_count": 143,
   "metadata": {},
   "outputs": [
    {
     "name": "stdout",
     "output_type": "stream",
     "text": [
      "\t Added 5000 sequences\n",
      "\t Added 10000 sequences\n",
      "\t Added 15000 sequences\n",
      "\t Added 20000 sequences\n",
      "\t Added 25000 sequences\n",
      "\t Added 30000 sequences\n",
      "\t Added 35000 sequences\n",
      "\t Added 40000 sequences\n",
      "\t Added 45000 sequences\n",
      "\t Added 50000 sequences\n",
      "\t Added 55000 sequences\n",
      "\t Added 60000 sequences\n",
      "\t Added 65000 sequences\n",
      "\t Added 70000 sequences\n",
      "4325 sequences (out of 70487) couldn't been added because they exceed the maximum attainable time (1.04)\n",
      "(70487, 112, 4)\n"
     ]
    }
   ],
   "source": [
    "size = dfs.shape[0]\n",
    "history = 100\n",
    "future = 12\n",
    "train_max_idx = int(size*0.8)\n",
    "seed = 178\n",
    "noise = 0.0\n",
    "tol = 1.1\n",
    "replace = False\n",
    "if replace:\n",
    "    num_samples = 3*train_max_idx\n",
    "else:\n",
    "    num_samples = train_max_idx-history-future\n",
    "train = create_dataset(dfs, num_samples=num_samples, min_idx=0, \n",
    "                       max_idx=train_max_idx, history=history, future=future, replace=replace,\n",
    "                       noise=noise, time_unit=one_day, time_tolerance=tol, seed=seed)\n",
    "print(train.shape)"
   ]
  },
  {
   "cell_type": "code",
   "execution_count": 144,
   "metadata": {},
   "outputs": [
    {
     "name": "stdout",
     "output_type": "stream",
     "text": [
      "\t Added 5000 sequences\n",
      "137 sequences (out of 9116) couldn't been added because they exceed the maximum attainable time (1.04)\n",
      "9116\n"
     ]
    }
   ],
   "source": [
    "# validation set\n",
    "vad_max_id = int(size*0.9)\n",
    "num_samples = vad_max_id - train_max_idx - history - future\n",
    "vad = create_dataset(dfs, num_samples=num_samples, \n",
    "                     min_idx=train_max_idx, max_idx=vad_max_id, history=history, \n",
    "                     future=future, replace=False, noise=0.0, time_unit=one_day, \n",
    "                     time_tolerance=tol, seed=seed)\n",
    "print(vad.shape[0])"
   ]
  },
  {
   "cell_type": "code",
   "execution_count": 145,
   "metadata": {},
   "outputs": [],
   "source": [
    "# get validation data randomly from the generated train set\n",
    "if False:\n",
    "    np.random.seed(seed)\n",
    "    vad_idx = np.random.choice(np.arange(train_vad.shape[0]), int(size*0.1), replace=False)\n",
    "    mask = np.ones(train_vad.shape[0],dtype=bool) \n",
    "    mask[vad_idx] = False\n",
    "    vad = train_vad[~mask, :]\n",
    "    train = train_vad[mask, :]\n",
    "    print(train_vad.shape, train.shape, vad.shape)"
   ]
  },
  {
   "cell_type": "code",
   "execution_count": 148,
   "metadata": {},
   "outputs": [
    {
     "name": "stdout",
     "output_type": "stream",
     "text": [
      "\t Added 5000 sequences\n",
      "472 sequences (out of 8781) couldn't been added because they exceed the maximum attainable time (1.04)\n",
      "8781\n"
     ]
    }
   ],
   "source": [
    "# testing set\n",
    "num_samples = size - vad_max_id - history - future\n",
    "test = create_dataset(dfs, num_samples=num_samples,\n",
    "                      min_idx=vad_max_id, max_idx=size, history=history, \n",
    "                      future=future, replace=False, noise=0.0, time_unit=one_day, \n",
    "                      time_tolerance=tol, seed=seed)\n",
    "print(test.shape[0])"
   ]
  },
  {
   "cell_type": "code",
   "execution_count": 157,
   "metadata": {},
   "outputs": [
    {
     "data": {
      "image/png": "[encoded data removed]",
      "text/plain": [
       "<Figure size 432x288 with 1 Axes>"
      ]
     },
     "metadata": {
      "needs_background": "light"
     },
     "output_type": "display_data"
    }
   ],
   "source": [
    "plt.figure()\n",
    "idx=np.random.randint(low=0, high=train.shape[0])\n",
    "xf, xl = train[idx, :history, 0], train[idx, history:history+future, 0]\n",
    "yf, yl = train[idx, :history, 3], train[idx, history:history+future, 3]\n",
    "plt.plot(xf, yf, '.-b', markersize=2, linewidth=1)\n",
    "plt.plot(xl, yl, '.--b', markersize=2, linewidth=1)\n",
    "\n",
    "idx=np.random.randint(low=0, high=test.shape[0])\n",
    "xf, xl = test[idx, :history, 0], test[idx, history:history+future, 0]\n",
    "yf, yl = test[idx, :history, 3], test[idx, history:history+future, 3]\n",
    "plt.plot(xf, yf, '.-k', markersize=2, linewidth=1)\n",
    "plt.plot(xl, yl, '.--k', markersize=2, linewidth=1)\n",
    "\n",
    "plt.show()"
   ]
  },
  {
   "cell_type": "code",
   "execution_count": 158,
   "metadata": {},
   "outputs": [],
   "source": [
    "np.save(os.path.join(root, \"noisy%s_train.npy\" %noise), train)\n",
    "np.save(os.path.join(root, \"noisy%s_vad.npy\" %noise), vad)\n",
    "np.save(os.path.join(root, \"noisy%s_test.npy\" %noise), test)"
   ]
  }
 ],
 "metadata": {
  "kernelspec": {
   "display_name": "Python [conda env:ks_dl_course]",
   "language": "python",
   "name": "conda-env-ks_dl_course-py"
  },
  "language_info": {
   "codemirror_mode": {
    "name": "ipython",
    "version": 3
   },
   "file_extension": ".py",
   "mimetype": "text/x-python",
   "name": "python",
   "nbconvert_exporter": "python",
   "pygments_lexer": "ipython3",
   "version": "3.6.6"
  }
 },
 "nbformat": 4,
 "nbformat_minor": 2
}
